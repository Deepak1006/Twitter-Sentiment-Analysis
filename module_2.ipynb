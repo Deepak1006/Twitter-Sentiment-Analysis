{
 "cells": [
  {
   "cell_type": "code",
   "execution_count": 1,
   "id": "steady-hamburg",
   "metadata": {},
   "outputs": [],
   "source": [
    "import tweepy\n",
    "import re\n",
    "import pandas as pd\n",
    "import numpy as np\n",
    "from nltk.stem.porter import PorterStemmer\n",
    "import pickle\n",
    "import twitterkey.key as access_key\n",
    "\n",
    "with open(\"logi_model.pkl\",'rb') as mod:\n",
    "    model=pickle.load(mod)\n",
    "with open(\"vector.pkl\",'rb') as vec:\n",
    "    vector=pickle.load(vec)\n",
    "    \n",
    "key=access_key.validation()\n",
    "\n",
    "def sentiment(model,vector):\n",
    "    consumer_key = key[0] \n",
    "    consumer_secret = key[1] \n",
    "    access_token_key = key[2] \n",
    "    access_token_secret = key[3] \n",
    "    auth = tweepy.OAuthHandler(consumer_key, consumer_secret)\n",
    "    auth.set_access_token(access_token_key, access_token_secret)\n",
    "    api = tweepy.API(auth, wait_on_rate_limit=True)\n",
    "    # input for term to be searched and how many tweets to search\n",
    "    searchTerm = input(\"\\nEnter Keyword/Tag to search about: \")\n",
    "    NoOfTerms = int(input(\"Enter how many tweets to search: \"))\n",
    "    # searching for tweets\n",
    "    tweets = tweepy.Cursor(api.search, q=searchTerm, lang = \"en\").items(NoOfTerms)\n",
    "        \n",
    "    df=pd.DataFrame([tweet.text for tweet in tweets],columns=[\"tweet\"])\n",
    "\n",
    "    def remove_pattern(input_txt, pattern):\n",
    "        r = re.findall(pattern, input_txt)\n",
    "        for word in r:\n",
    "            input_txt = re.sub(word, \"\", input_txt)\n",
    "            input_txt=re.sub(r\"RT[\\s]+\",\"\",input_txt) #Remove Re-tweet\n",
    "            input_txt=re.sub(r\"https?:\\/\\/\\S+\",\"\",input_txt)\n",
    "        return input_txt\n",
    "\n",
    "    df['clean_tweet'] = np.vectorize(remove_pattern)(df['tweet'], \"@[\\w]*\")\n",
    "    df['clean_tweet'] = df['clean_tweet'].apply(lambda x: \" \".join([w for w in x.split() if len(w)>2]))\n",
    "    tokenized_tweet = df['clean_tweet'].apply(lambda x: x.split())\n",
    "    tokenized_tweet.head()\n",
    "\n",
    "\n",
    "    stemmer = PorterStemmer()\n",
    "\n",
    "    tokenized_tweet = tokenized_tweet.apply(lambda sentence: [stemmer.stem(word) for word in sentence])\n",
    "    tokenized_tweet.head()\n",
    "\n",
    "\n",
    "    for i in range(len(tokenized_tweet)):\n",
    "        tokenized_tweet[i] = \" \".join(tokenized_tweet[i])\n",
    "\n",
    "\n",
    "    df['clean_tweet'] = tokenized_tweet\n",
    "\n",
    "    x = vector.transform(df['clean_tweet'])\n",
    "    \n",
    "    predicted=model.predict(x)\n",
    "    y=np.where(predicted==0,\"negative\",\"positve\")\n",
    "    return df[\"clean_tweet\"],y\n"
   ]
  },
  {
   "cell_type": "code",
   "execution_count": 2,
   "id": "dated-mandate",
   "metadata": {},
   "outputs": [
    {
     "name": "stdout",
     "output_type": "stream",
     "text": [
      "\n",
      "Enter Keyword/Tag to search about: MiIndiaSupport\n",
      "Enter how many tweets to search: 100\n"
     ]
    }
   ],
   "source": [
    "x,y=sentiment(model,vector)"
   ]
  },
  {
   "cell_type": "code",
   "execution_count": 3,
   "id": "liked-romance",
   "metadata": {},
   "outputs": [],
   "source": [
    "output_data=pd.DataFrame(data=[x,y]).T\n",
    "output_data.columns=[\"Tweet\",\"Sentiment\"]"
   ]
  },
  {
   "cell_type": "code",
   "execution_count": 4,
   "id": "billion-insulation",
   "metadata": {},
   "outputs": [
    {
     "data": {
      "text/html": [
       "<div>\n",
       "<style scoped>\n",
       "    .dataframe tbody tr th:only-of-type {\n",
       "        vertical-align: middle;\n",
       "    }\n",
       "\n",
       "    .dataframe tbody tr th {\n",
       "        vertical-align: top;\n",
       "    }\n",
       "\n",
       "    .dataframe thead th {\n",
       "        text-align: right;\n",
       "    }\n",
       "</style>\n",
       "<table border=\"1\" class=\"dataframe\">\n",
       "  <thead>\n",
       "    <tr style=\"text-align: right;\">\n",
       "      <th></th>\n",
       "      <th>Tweet</th>\n",
       "      <th>Sentiment</th>\n",
       "    </tr>\n",
       "  </thead>\n",
       "  <tbody>\n",
       "    <tr>\n",
       "      <th>0</th>\n",
       "      <td>karan, thi definit not the experi want you thr...</td>\n",
       "      <td>positve</td>\n",
       "    </tr>\n",
       "    <tr>\n",
       "      <th>1</th>\n",
       "      <td>when ultra will avail buy. it' been month sinc...</td>\n",
       "      <td>positve</td>\n",
       "    </tr>\n",
       "    <tr>\n",
       "      <th>2</th>\n",
       "      <td>zaid, thank you for reach out us. thi definit ...</td>\n",
       "      <td>positve</td>\n",
       "    </tr>\n",
       "    <tr>\n",
       "      <th>3</th>\n",
       "      <td>understand your concern regard the replacement...</td>\n",
       "      <td>positve</td>\n",
       "    </tr>\n",
       "    <tr>\n",
       "      <th>4</th>\n",
       "      <td>despit msging and tweeting…</td>\n",
       "      <td>positve</td>\n",
       "    </tr>\n",
       "    <tr>\n",
       "      <th>...</th>\n",
       "      <td>...</td>\n",
       "      <td>...</td>\n",
       "    </tr>\n",
       "    <tr>\n",
       "      <th>95</th>\n",
       "      <td>the time slot and the servic centr address wil...</td>\n",
       "      <td>positve</td>\n",
       "    </tr>\n",
       "    <tr>\n",
       "      <th>96</th>\n",
       "      <td>hello, measur precaut against covid-19 and owe...</td>\n",
       "      <td>positve</td>\n",
       "    </tr>\n",
       "    <tr>\n",
       "      <th>97</th>\n",
       "      <td>aaditya, are sorri know that you are face issu...</td>\n",
       "      <td>negative</td>\n",
       "    </tr>\n",
       "    <tr>\n",
       "      <th>98</th>\n",
       "      <td>hello ameeruddin, we'r sorri for the troubl yo...</td>\n",
       "      <td>positve</td>\n",
       "    </tr>\n",
       "    <tr>\n",
       "      <th>99</th>\n",
       "      <td>sohan, will abl help you with fix for the touc...</td>\n",
       "      <td>positve</td>\n",
       "    </tr>\n",
       "  </tbody>\n",
       "</table>\n",
       "<p>100 rows × 2 columns</p>\n",
       "</div>"
      ],
      "text/plain": [
       "                                                Tweet Sentiment\n",
       "0   karan, thi definit not the experi want you thr...   positve\n",
       "1   when ultra will avail buy. it' been month sinc...   positve\n",
       "2   zaid, thank you for reach out us. thi definit ...   positve\n",
       "3   understand your concern regard the replacement...   positve\n",
       "4                         despit msging and tweeting…   positve\n",
       "..                                                ...       ...\n",
       "95  the time slot and the servic centr address wil...   positve\n",
       "96  hello, measur precaut against covid-19 and owe...   positve\n",
       "97  aaditya, are sorri know that you are face issu...  negative\n",
       "98  hello ameeruddin, we'r sorri for the troubl yo...   positve\n",
       "99  sohan, will abl help you with fix for the touc...   positve\n",
       "\n",
       "[100 rows x 2 columns]"
      ]
     },
     "execution_count": 4,
     "metadata": {},
     "output_type": "execute_result"
    }
   ],
   "source": [
    "output_data"
   ]
  },
  {
   "cell_type": "code",
   "execution_count": 5,
   "id": "advanced-provider",
   "metadata": {},
   "outputs": [
    {
     "data": {
      "text/plain": [
       "positve     61\n",
       "negative    39\n",
       "Name: Sentiment, dtype: int64"
      ]
     },
     "execution_count": 5,
     "metadata": {},
     "output_type": "execute_result"
    }
   ],
   "source": [
    "output_data[\"Sentiment\"].value_counts()"
   ]
  },
  {
   "cell_type": "code",
   "execution_count": 1,
   "id": "unable-engagement",
   "metadata": {},
   "outputs": [],
   "source": []
  },
  {
   "cell_type": "code",
   "execution_count": 2,
   "id": "b20f0e18",
   "metadata": {},
   "outputs": [],
   "source": []
  },
  {
   "cell_type": "code",
   "execution_count": null,
   "id": "4dd9ea6e",
   "metadata": {},
   "outputs": [],
   "source": []
  }
 ],
 "metadata": {
  "kernelspec": {
   "display_name": "Python 3",
   "language": "python",
   "name": "python3"
  },
  "language_info": {
   "codemirror_mode": {
    "name": "ipython",
    "version": 3
   },
   "file_extension": ".py",
   "mimetype": "text/x-python",
   "name": "python",
   "nbconvert_exporter": "python",
   "pygments_lexer": "ipython3",
   "version": "3.7.10"
  }
 },
 "nbformat": 4,
 "nbformat_minor": 5
}
